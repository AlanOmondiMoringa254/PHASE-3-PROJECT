{
 "cells": [
  {
   "cell_type": "markdown",
   "metadata": {},
   "source": [
    "# Predicting Customer Churn for SyriaTel Telecommunications Company  \n",
    "\n",
    "Student names:\n",
    " 1. Peggy Obam\n",
    " 2. Rael Ndonye\n",
    " 3. Alan Omondi\n",
    " 4. Jackson Maina\n",
    " 5. Jared Bii\n",
    " 6. Brenda Kinoti\n",
    "\n",
    "Student pace: part time\n",
    "\n",
    "## Introduction:\n",
    "The goal of this project is to develop a predictive model that can accurately forecast customer churn for SyriaTel, a telecommunications company. By identifying customers who are likely to churn, SyriaTel can take proactive measures to retain them, thereby reducing revenue loss and improving customer satisfaction. This proposal outlines the project's objectives, dataset selection, methodology, and expected deliverables.\n",
    "\n",
    "## Objectives:\n",
    "The primary objectives of this project are as follows:\n",
    "\n",
    "a. To Build a classification model to predict customer churn for SyriaTel.\n",
    "\n",
    "b. To Identify the key factors influencing customer churn.\n",
    "\n",
    "c. To Provide insights and recommendations to SyriaTel for effective churn management.\n",
    "\n",
    "## Dataset Selection:\n",
    "For this project, we have chosen the \"SyriaTel Customer Churn\" dataset. The dataset provides a comprehensive set of customer-related features that can be used to analyze and predict customer churn.The features of this dataset provide valuable insights into customer behavior, usage patterns, and account details. By analyzing this data, we aim to develop a predictive model that can identify customers who are likely to churn.By leveraging the available features, such as call duration, usage patterns, and customer service interactions, we can gain a better understanding of the factors contributing to customer churn and explore potential strategies to reduce churn rates. This dataset is particularly suitable for our objectives, as it provides the necessary information to understand customer behavior and predict churn.\n",
    "\n",
    "## Methodology:\n",
    "The project will follow the following steps:\n",
    "\n",
    "a. Exploratory Data Analysis: We will perform an in-depth exploration of the dataset to gain insights into the distribution of variables, identify patterns, and detect any data quality issues.\n",
    "\n",
    "b. Data Preprocessing: This step involves handling missing values, encoding categorical variables, and scaling numerical features. We will also address any outliers or data inconsistencies to ensure the reliability of our analysis.\n",
    "\n",
    "c. Feature Selection: We will identify relevant features that have a significant impact on customer churn prediction. \n",
    "\n",
    "d. Model Selection and Training: We will compare various classification algorithms, such as logistic regression, decision trees, and random forests, to select the most suitable model for predicting customer churn. The chosen model will be trained using the labeled dataset.\n",
    "\n",
    "e. Model Evaluation: We will assess the performance of the trained model using appropriate evaluation metrics, including accuracy, precision, recall, and F1-score. This step will help us understand how well the model predicts customer churn.\n",
    "\n",
    "f. Model Optimization: We will fine-tune the selected model by adjusting hyperparameters and employing techniques like grid search. This optimization process aims to maximize the model's predictive capabilities.\n",
    "\n",
    "g. Interpretation and Reporting: The results of our analysis will be interpreted and presented in a comprehensive report. We will provide actionable insights and recommendations for SyriaTel to implement effective strategies for churn management.\n"
   ]
  },
  {
   "cell_type": "markdown",
   "metadata": {},
   "source": [
    "## A.Data Exploration"
   ]
  },
  {
   "cell_type": "code",
   "execution_count": 2,
   "metadata": {},
   "outputs": [],
   "source": [
    "  #importation of necessary libraries and loading of the data set.\n",
    "import pandas as pd\n",
    "import numpy as np\n",
    "import matplotlib.pyplot as plt\n",
    "import seaborn as sns\n",
    "import math\n",
    "from sklearn.preprocessing import MinMaxScaler\n",
    "from sklearn.model_selection import train_test_split, GridSearchCV\n",
    "from sklearn.linear_model import LogisticRegression\n",
    "import warnings\n",
    "warnings.filterwarnings(\"ignore\")\n",
    "from sklearn.metrics import accuracy_score, precision_score, recall_score, f1_score, confusion_matrix,roc_auc_score, roc_curve,classification_report\n",
    "from sklearn.metrics import f1_score\n",
    "from imblearn.over_sampling import SMOTE, ADASYN\n",
    "df=pd.read_csv('data (1).csv')  "
   ]
  },
  {
   "cell_type": "code",
   "execution_count": 3,
   "metadata": {},
   "outputs": [
    {
     "data": {
      "text/html": [
       "<div>\n",
       "<style scoped>\n",
       "    .dataframe tbody tr th:only-of-type {\n",
       "        vertical-align: middle;\n",
       "    }\n",
       "\n",
       "    .dataframe tbody tr th {\n",
       "        vertical-align: top;\n",
       "    }\n",
       "\n",
       "    .dataframe thead th {\n",
       "        text-align: right;\n",
       "    }\n",
       "</style>\n",
       "<table border=\"1\" class=\"dataframe\">\n",
       "  <thead>\n",
       "    <tr style=\"text-align: right;\">\n",
       "      <th></th>\n",
       "      <th>state</th>\n",
       "      <th>account length</th>\n",
       "      <th>area code</th>\n",
       "      <th>phone number</th>\n",
       "      <th>international plan</th>\n",
       "      <th>voice mail plan</th>\n",
       "      <th>number vmail messages</th>\n",
       "      <th>total day minutes</th>\n",
       "      <th>total day calls</th>\n",
       "      <th>total day charge</th>\n",
       "      <th>...</th>\n",
       "      <th>total eve calls</th>\n",
       "      <th>total eve charge</th>\n",
       "      <th>total night minutes</th>\n",
       "      <th>total night calls</th>\n",
       "      <th>total night charge</th>\n",
       "      <th>total intl minutes</th>\n",
       "      <th>total intl calls</th>\n",
       "      <th>total intl charge</th>\n",
       "      <th>customer service calls</th>\n",
       "      <th>churn</th>\n",
       "    </tr>\n",
       "  </thead>\n",
       "  <tbody>\n",
       "    <tr>\n",
       "      <th>0</th>\n",
       "      <td>KS</td>\n",
       "      <td>128</td>\n",
       "      <td>415</td>\n",
       "      <td>382-4657</td>\n",
       "      <td>no</td>\n",
       "      <td>yes</td>\n",
       "      <td>25</td>\n",
       "      <td>265.1</td>\n",
       "      <td>110</td>\n",
       "      <td>45.07</td>\n",
       "      <td>...</td>\n",
       "      <td>99</td>\n",
       "      <td>16.78</td>\n",
       "      <td>244.7</td>\n",
       "      <td>91</td>\n",
       "      <td>11.01</td>\n",
       "      <td>10.0</td>\n",
       "      <td>3</td>\n",
       "      <td>2.70</td>\n",
       "      <td>1</td>\n",
       "      <td>False</td>\n",
       "    </tr>\n",
       "    <tr>\n",
       "      <th>1</th>\n",
       "      <td>OH</td>\n",
       "      <td>107</td>\n",
       "      <td>415</td>\n",
       "      <td>371-7191</td>\n",
       "      <td>no</td>\n",
       "      <td>yes</td>\n",
       "      <td>26</td>\n",
       "      <td>161.6</td>\n",
       "      <td>123</td>\n",
       "      <td>27.47</td>\n",
       "      <td>...</td>\n",
       "      <td>103</td>\n",
       "      <td>16.62</td>\n",
       "      <td>254.4</td>\n",
       "      <td>103</td>\n",
       "      <td>11.45</td>\n",
       "      <td>13.7</td>\n",
       "      <td>3</td>\n",
       "      <td>3.70</td>\n",
       "      <td>1</td>\n",
       "      <td>False</td>\n",
       "    </tr>\n",
       "    <tr>\n",
       "      <th>2</th>\n",
       "      <td>NJ</td>\n",
       "      <td>137</td>\n",
       "      <td>415</td>\n",
       "      <td>358-1921</td>\n",
       "      <td>no</td>\n",
       "      <td>no</td>\n",
       "      <td>0</td>\n",
       "      <td>243.4</td>\n",
       "      <td>114</td>\n",
       "      <td>41.38</td>\n",
       "      <td>...</td>\n",
       "      <td>110</td>\n",
       "      <td>10.30</td>\n",
       "      <td>162.6</td>\n",
       "      <td>104</td>\n",
       "      <td>7.32</td>\n",
       "      <td>12.2</td>\n",
       "      <td>5</td>\n",
       "      <td>3.29</td>\n",
       "      <td>0</td>\n",
       "      <td>False</td>\n",
       "    </tr>\n",
       "    <tr>\n",
       "      <th>3</th>\n",
       "      <td>OH</td>\n",
       "      <td>84</td>\n",
       "      <td>408</td>\n",
       "      <td>375-9999</td>\n",
       "      <td>yes</td>\n",
       "      <td>no</td>\n",
       "      <td>0</td>\n",
       "      <td>299.4</td>\n",
       "      <td>71</td>\n",
       "      <td>50.90</td>\n",
       "      <td>...</td>\n",
       "      <td>88</td>\n",
       "      <td>5.26</td>\n",
       "      <td>196.9</td>\n",
       "      <td>89</td>\n",
       "      <td>8.86</td>\n",
       "      <td>6.6</td>\n",
       "      <td>7</td>\n",
       "      <td>1.78</td>\n",
       "      <td>2</td>\n",
       "      <td>False</td>\n",
       "    </tr>\n",
       "    <tr>\n",
       "      <th>4</th>\n",
       "      <td>OK</td>\n",
       "      <td>75</td>\n",
       "      <td>415</td>\n",
       "      <td>330-6626</td>\n",
       "      <td>yes</td>\n",
       "      <td>no</td>\n",
       "      <td>0</td>\n",
       "      <td>166.7</td>\n",
       "      <td>113</td>\n",
       "      <td>28.34</td>\n",
       "      <td>...</td>\n",
       "      <td>122</td>\n",
       "      <td>12.61</td>\n",
       "      <td>186.9</td>\n",
       "      <td>121</td>\n",
       "      <td>8.41</td>\n",
       "      <td>10.1</td>\n",
       "      <td>3</td>\n",
       "      <td>2.73</td>\n",
       "      <td>3</td>\n",
       "      <td>False</td>\n",
       "    </tr>\n",
       "  </tbody>\n",
       "</table>\n",
       "<p>5 rows × 21 columns</p>\n",
       "</div>"
      ],
      "text/plain": [
       "  state  account length  area code phone number international plan  \\\n",
       "0    KS             128        415     382-4657                 no   \n",
       "1    OH             107        415     371-7191                 no   \n",
       "2    NJ             137        415     358-1921                 no   \n",
       "3    OH              84        408     375-9999                yes   \n",
       "4    OK              75        415     330-6626                yes   \n",
       "\n",
       "  voice mail plan  number vmail messages  total day minutes  total day calls  \\\n",
       "0             yes                     25              265.1              110   \n",
       "1             yes                     26              161.6              123   \n",
       "2              no                      0              243.4              114   \n",
       "3              no                      0              299.4               71   \n",
       "4              no                      0              166.7              113   \n",
       "\n",
       "   total day charge  ...  total eve calls  total eve charge  \\\n",
       "0             45.07  ...               99             16.78   \n",
       "1             27.47  ...              103             16.62   \n",
       "2             41.38  ...              110             10.30   \n",
       "3             50.90  ...               88              5.26   \n",
       "4             28.34  ...              122             12.61   \n",
       "\n",
       "   total night minutes  total night calls  total night charge  \\\n",
       "0                244.7                 91               11.01   \n",
       "1                254.4                103               11.45   \n",
       "2                162.6                104                7.32   \n",
       "3                196.9                 89                8.86   \n",
       "4                186.9                121                8.41   \n",
       "\n",
       "   total intl minutes  total intl calls  total intl charge  \\\n",
       "0                10.0                 3               2.70   \n",
       "1                13.7                 3               3.70   \n",
       "2                12.2                 5               3.29   \n",
       "3                 6.6                 7               1.78   \n",
       "4                10.1                 3               2.73   \n",
       "\n",
       "   customer service calls  churn  \n",
       "0                       1  False  \n",
       "1                       1  False  \n",
       "2                       0  False  \n",
       "3                       2  False  \n",
       "4                       3  False  \n",
       "\n",
       "[5 rows x 21 columns]"
      ]
     },
     "execution_count": 3,
     "metadata": {},
     "output_type": "execute_result"
    }
   ],
   "source": [
    "df.head()  #View the first few rows of the dataset"
   ]
  },
  {
   "cell_type": "code",
   "execution_count": 4,
   "metadata": {},
   "outputs": [
    {
     "name": "stdout",
     "output_type": "stream",
     "text": [
      "Shape of the dataset: (3333, 21)\n"
     ]
    }
   ],
   "source": [
    "# Checking the dimensions of the dataset\n",
    "print(\"Shape of the dataset:\", df.shape)\n"
   ]
  },
  {
   "cell_type": "code",
   "execution_count": 5,
   "metadata": {},
   "outputs": [
    {
     "name": "stdout",
     "output_type": "stream",
     "text": [
      "Column names: Index(['state', 'account length', 'area code', 'phone number',\n",
      "       'international plan', 'voice mail plan', 'number vmail messages',\n",
      "       'total day minutes', 'total day calls', 'total day charge',\n",
      "       'total eve minutes', 'total eve calls', 'total eve charge',\n",
      "       'total night minutes', 'total night calls', 'total night charge',\n",
      "       'total intl minutes', 'total intl calls', 'total intl charge',\n",
      "       'customer service calls', 'churn'],\n",
      "      dtype='object')\n"
     ]
    }
   ],
   "source": [
    "# Checking the column names\n",
    "print(\"Column names:\", df.columns)"
   ]
  },
  {
   "cell_type": "markdown",
   "metadata": {},
   "source": [
    "## Observations:\n",
    "The column names include various customer-related information such as 'state', 'account length', 'area code', 'phone number', 'international plan', 'voice mail plan', 'number vmail messages', and several other features related to call duration, charges, and customer service interactions. This suggests that the dataset covers a wide range of customer attributes."
   ]
  },
  {
   "cell_type": "code",
   "execution_count": 6,
   "metadata": {},
   "outputs": [
    {
     "name": "stdout",
     "output_type": "stream",
     "text": [
      "       account length    area code  number vmail messages  total day minutes  \\\n",
      "count     3333.000000  3333.000000            3333.000000        3333.000000   \n",
      "mean       101.064806   437.182418               8.099010         179.775098   \n",
      "std         39.822106    42.371290              13.688365          54.467389   \n",
      "min          1.000000   408.000000               0.000000           0.000000   \n",
      "25%         74.000000   408.000000               0.000000         143.700000   \n",
      "50%        101.000000   415.000000               0.000000         179.400000   \n",
      "75%        127.000000   510.000000              20.000000         216.400000   \n",
      "max        243.000000   510.000000              51.000000         350.800000   \n",
      "\n",
      "       total day calls  total day charge  total eve minutes  total eve calls  \\\n",
      "count      3333.000000       3333.000000        3333.000000      3333.000000   \n",
      "mean        100.435644         30.562307         200.980348       100.114311   \n",
      "std          20.069084          9.259435          50.713844        19.922625   \n",
      "min           0.000000          0.000000           0.000000         0.000000   \n",
      "25%          87.000000         24.430000         166.600000        87.000000   \n",
      "50%         101.000000         30.500000         201.400000       100.000000   \n",
      "75%         114.000000         36.790000         235.300000       114.000000   \n",
      "max         165.000000         59.640000         363.700000       170.000000   \n",
      "\n",
      "       total eve charge  total night minutes  total night calls  \\\n",
      "count       3333.000000          3333.000000        3333.000000   \n",
      "mean          17.083540           200.872037         100.107711   \n",
      "std            4.310668            50.573847          19.568609   \n",
      "min            0.000000            23.200000          33.000000   \n",
      "25%           14.160000           167.000000          87.000000   \n",
      "50%           17.120000           201.200000         100.000000   \n",
      "75%           20.000000           235.300000         113.000000   \n",
      "max           30.910000           395.000000         175.000000   \n",
      "\n",
      "       total night charge  total intl minutes  total intl calls  \\\n",
      "count         3333.000000         3333.000000       3333.000000   \n",
      "mean             9.039325           10.237294          4.479448   \n",
      "std              2.275873            2.791840          2.461214   \n",
      "min              1.040000            0.000000          0.000000   \n",
      "25%              7.520000            8.500000          3.000000   \n",
      "50%              9.050000           10.300000          4.000000   \n",
      "75%             10.590000           12.100000          6.000000   \n",
      "max             17.770000           20.000000         20.000000   \n",
      "\n",
      "       total intl charge  customer service calls  \n",
      "count        3333.000000             3333.000000  \n",
      "mean            2.764581                1.562856  \n",
      "std             0.753773                1.315491  \n",
      "min             0.000000                0.000000  \n",
      "25%             2.300000                1.000000  \n",
      "50%             2.780000                1.000000  \n",
      "75%             3.270000                2.000000  \n",
      "max             5.400000                9.000000  \n"
     ]
    }
   ],
   "source": [
    "# Getting summary statistics of numerical features\n",
    "print(df.describe())"
   ]
  },
  {
   "cell_type": "markdown",
   "metadata": {},
   "source": [
    "## Observations:\n",
    "From the summary statistics above, we can see that:\n",
    "\n",
    "The average account length is approximately 101, with a minimum of 1 and a maximum of 243.\n",
    "The average total day minutes is around 179.8, with a standard deviation of 54.5.\n",
    "The average total eve minutes is approximately 201.0, with a standard deviation of 50.7.\n",
    "The average total intl calls is about 4.5, with a maximum of 20."
   ]
  },
  {
   "cell_type": "code",
   "execution_count": 7,
   "metadata": {},
   "outputs": [
    {
     "name": "stdout",
     "output_type": "stream",
     "text": [
      "state                      object\n",
      "account length              int64\n",
      "area code                   int64\n",
      "phone number               object\n",
      "international plan         object\n",
      "voice mail plan            object\n",
      "number vmail messages       int64\n",
      "total day minutes         float64\n",
      "total day calls             int64\n",
      "total day charge          float64\n",
      "total eve minutes         float64\n",
      "total eve calls             int64\n",
      "total eve charge          float64\n",
      "total night minutes       float64\n",
      "total night calls           int64\n",
      "total night charge        float64\n",
      "total intl minutes        float64\n",
      "total intl calls            int64\n",
      "total intl charge         float64\n",
      "customer service calls      int64\n",
      "churn                        bool\n",
      "dtype: object\n"
     ]
    }
   ],
   "source": [
    "# Checking the data types of columns\n",
    "print(df.dtypes)"
   ]
  },
  {
   "cell_type": "markdown",
   "metadata": {},
   "source": [
    "## Observations:\n",
    "The data types of the columns indicate that most features are represented as integers or floats, while a few are categorical variables (object), such as 'state', 'international plan', and 'voice mail plan'. The 'churn' column is a boolean variable, representing whether a customer has churned (True) or not (False)."
   ]
  },
  {
   "cell_type": "code",
   "execution_count": 8,
   "metadata": {},
   "outputs": [
    {
     "name": "stdout",
     "output_type": "stream",
     "text": [
      "Missing values:\n",
      " state                     0\n",
      "account length            0\n",
      "area code                 0\n",
      "phone number              0\n",
      "international plan        0\n",
      "voice mail plan           0\n",
      "number vmail messages     0\n",
      "total day minutes         0\n",
      "total day calls           0\n",
      "total day charge          0\n",
      "total eve minutes         0\n",
      "total eve calls           0\n",
      "total eve charge          0\n",
      "total night minutes       0\n",
      "total night calls         0\n",
      "total night charge        0\n",
      "total intl minutes        0\n",
      "total intl calls          0\n",
      "total intl charge         0\n",
      "customer service calls    0\n",
      "churn                     0\n",
      "dtype: int64\n"
     ]
    }
   ],
   "source": [
    "# Checking for missing values\n",
    "print(\"Missing values:\\n\", df.isnull().sum())\n"
   ]
  },
  {
   "cell_type": "markdown",
   "metadata": {},
   "source": [
    "## Observations:\n",
    "As seen above,the dataset contains no missing values.This suggests that the dataset is complete, with no null or missing entries in any of the columns.This is advantageous as it ensures that the data is ready for further analysis and modell\n",
    "ing without the need for imputation or handling missing data. It provides a reliable foundation for exploring relationships between variables and deriving meaningful insights from the data."
   ]
  },
  {
   "cell_type": "markdown",
   "metadata": {},
   "source": [
    "# Explolatory Data Analysis \n",
    "## Univariate analysis:"
   ]
  },
  {
   "cell_type": "code",
   "execution_count": 9,
   "metadata": {},
   "outputs": [
    {
     "data": {
      "image/png": "[encoded data removed]",
      "text/plain": [
       "<Figure size 432x288 with 1 Axes>"
      ]
     },
     "metadata": {
      "needs_background": "light"
     },
     "output_type": "display_data"
    }
   ],
   "source": [
    "#Histogram of Churn Distribution:\n",
    "#To visualize the distribution of the target variable 'churn':\n",
    "sns.countplot(x='churn', data=df)\n",
    "plt.xlabel('Churn')\n",
    "plt.ylabel('Count')  \n",
    "plt.title('Churn Distribution')\n",
    "plt.show()"
   ]
  },
  {
   "cell_type": "markdown",
   "metadata": {},
   "source": [
    "## Observations:\n",
    "-The majority of customers in the dataset did not churn (represented by 'False' in the 'churn' variable).\n",
    "-The number of churned customers is noticeably smaller compared to the number of customers who did not churn."
   ]
  },
  {
   "cell_type": "code",
   "execution_count": 10,
   "metadata": {},
   "outputs": [
    {
     "data": {
      "image/png": "[encoded data removed]",
      "text/plain": [
       "<Figure size 432x288 with 1 Axes>"
      ]
     },
     "metadata": {
      "needs_background": "light"
     },
     "output_type": "display_data"
    }
   ],
   "source": [
    "#Box Plot of Customer Service Calls:\n",
    "#To analyze the distribution and potential outliers of the 'customer service calls' variable:\n",
    "plt.boxplot(df['customer service calls'])\n",
    "plt.xlabel('Customer Service Calls')\n",
    "plt.ylabel('Count')\n",
    "plt.title('Box Plot of Customer Service Calls')\n",
    "plt.show()"
   ]
  },
  {
   "cell_type": "markdown",
   "metadata": {},
   "source": [
    "## Observations:\n",
    "-The box plot shows the distribution of the 'customer service calls' variable.\n",
    "-The median number of customer service calls is around 1.\n",
    "-There are a few outliers with a higher number of customer service calls."
   ]
  },
  {
   "cell_type": "code",
   "execution_count": 11,
   "metadata": {},
   "outputs": [
    {
     "data": {
      "image/png": "[encoded data removed]",
      "text/plain": [
       "<Figure size 432x288 with 1 Axes>"
      ]
     },
     "metadata": {
      "needs_background": "light"
     },
     "output_type": "display_data"
    }
   ],
   "source": [
    "#Bar Plot of International Plan:\n",
    "#To examine the frequency of customers with and without the 'international plan':\n",
    "sns.countplot(x='international plan', data=df)\n",
    "plt.xlabel('International Plan')\n",
    "plt.ylabel('Count')\n",
    "plt.title('Frequency of Customers by International Plan')\n",
    "plt.show()"
   ]
  },
  {
   "cell_type": "markdown",
   "metadata": {},
   "source": [
    "## Observations:\n",
    "-The bar plot displays the frequency of customers with and without an international plan.\n",
    "-The majority of customers do not have an international plan.\n",
    "-A smaller proportion of customers have opted for an international plan."
   ]
  },
  {
   "cell_type": "code",
   "execution_count": 12,
   "metadata": {},
   "outputs": [
    {
     "data": {
      "image/png": "[encoded data removed]",
      "text/plain": [
       "<Figure size 1368x576 with 15 Axes>"
      ]
     },
     "metadata": {
      "needs_background": "light"
     },
     "output_type": "display_data"
    }
   ],
   "source": [
    "# Distribution Plots for all features\n",
    "fig, axes = plt.subplots(nrows=3, ncols=5, figsize=(19, 8))\n",
    "variables = ['account length', 'total day minutes', 'total day calls', 'total day charge',\n",
    "             'total eve minutes', 'total eve calls', 'total eve charge', 'total night minutes',\n",
    "             'total night calls', 'total night charge', 'total intl minutes', 'total intl calls',\n",
    "             'total intl charge', 'customer service calls']\n",
    "\n",
    "for i, variable in enumerate(variables):\n",
    "    ax = axes[i // 5, i % 5]\n",
    "    ax.hist(df[variable], bins=20)\n",
    "    ax.set_xlabel(variable)\n",
    "    ax.set_ylabel('Frequency')\n",
    "\n",
    "plt.tight_layout()\n",
    "plt.show()"
   ]
  },
  {
   "cell_type": "markdown",
   "metadata": {},
   "source": [
    "## Observations\n",
    "Most of the features are normally distributed except for **total intl calls** and **customer service calls** which are left skewed."
   ]
  },
  {
   "cell_type": "markdown",
   "metadata": {},
   "source": [
    "# Bivariate Analysis:"
   ]
  },
  {
   "cell_type": "code",
   "execution_count": 13,
   "metadata": {},
   "outputs": [
    {
     "data": {
      "image/png": "[encoded data removed]",
      "text/plain": [
       "<Figure size 1224x864 with 2 Axes>"
      ]
     },
     "metadata": {
      "needs_background": "light"
     },
     "output_type": "display_data"
    }
   ],
   "source": [
    "# Compute the correlation matrix\n",
    "corr = df.corr().abs()\n",
    "\n",
    "# Generate a mask for the upper triangle\n",
    "mask = np.triu(np.ones_like(corr, dtype=bool))\n",
    "\n",
    "# Set up the figure and axes\n",
    "fig, ax = plt.subplots(figsize=(17, 12))\n",
    "fig.suptitle('Correlation Matrix of SyriaTel Customer Churn data', fontsize=30, y=0.95, fontname='DejaVu Sans')\n",
    "\n",
    "# Create a heatmap using the mask for the upper triangle\n",
    "heatmap = sns.heatmap(corr, mask=mask, cmap='coolwarm', annot=True)\n",
    "\n",
    "# Show the heatmap\n",
    "plt.show()\n"
   ]
  },
  {
   "cell_type": "markdown",
   "metadata": {},
   "source": [
    "- The correlation between total day minutes and total day charge is 1, suggesting a strong linear relationship. It is possible to remove one of these variables without significant loss of information.\n",
    "- Similarly, the correlation between total eve minutes and total eve charge is 1, indicating a strong linear relationship. One of these variables can be dropped.\n",
    "- The correlation of 1 between total night minutes and total night charge implies a strong linear relationship, allowing us to drop one of these variables.\n",
    "- Likewise, the correlation between total intl minutes and total intl charge is 1, indicating a strong linear relationship, allowing for the removal of one of these variables."
   ]
  },
  {
   "cell_type": "markdown",
   "metadata": {},
   "source": [
    "Due to high multicollinearity between each other, we dropped the following columns:\n",
    "- total day minutes\n",
    "- total eve minutes\n",
    "- total night minutes\n",
    "- total intl minutes"
   ]
  },
  {
   "cell_type": "code",
   "execution_count": 14,
   "metadata": {},
   "outputs": [],
   "source": [
    "remove = [\"total day minutes\",\"total eve minutes\",\"total night minutes\",\"total intl minutes\",\"phone number\"]\n",
    "df = df.drop(remove, axis = 1)\n"
   ]
  },
  {
   "cell_type": "code",
   "execution_count": 15,
   "metadata": {},
   "outputs": [
    {
     "data": {
      "text/plain": [
       "state                      object\n",
       "account length              int64\n",
       "area code                   int64\n",
       "international plan         object\n",
       "voice mail plan            object\n",
       "number vmail messages       int64\n",
       "total day calls             int64\n",
       "total day charge          float64\n",
       "total eve calls             int64\n",
       "total eve charge          float64\n",
       "total night calls           int64\n",
       "total night charge        float64\n",
       "total intl calls            int64\n",
       "total intl charge         float64\n",
       "customer service calls      int64\n",
       "churn                        bool\n",
       "dtype: object"
      ]
     },
     "execution_count": 15,
     "metadata": {},
     "output_type": "execute_result"
    }
   ],
   "source": [
    "df.dtypes"
   ]
  },
  {
   "cell_type": "code",
   "execution_count": 16,
   "metadata": {},
   "outputs": [],
   "source": [
    "# creating dummy variables\n",
    "df2 = pd.get_dummies(df, columns=['state','international plan','voice mail plan'], drop_first = True)\n",
    "\n"
   ]
  },
  {
   "cell_type": "code",
   "execution_count": 17,
   "metadata": {},
   "outputs": [],
   "source": [
    "df2[\"churn\"] = df2[\"churn\"].map({True: 1, False: 0})"
   ]
  },
  {
   "cell_type": "code",
   "execution_count": 18,
   "metadata": {},
   "outputs": [
    {
     "name": "stdout",
     "output_type": "stream",
     "text": [
      "<class 'pandas.core.frame.DataFrame'>\n",
      "RangeIndex: 3333 entries, 0 to 3332\n",
      "Data columns (total 65 columns):\n",
      " #   Column                  Non-Null Count  Dtype  \n",
      "---  ------                  --------------  -----  \n",
      " 0   account length          3333 non-null   int64  \n",
      " 1   area code               3333 non-null   int64  \n",
      " 2   number vmail messages   3333 non-null   int64  \n",
      " 3   total day calls         3333 non-null   int64  \n",
      " 4   total day charge        3333 non-null   float64\n",
      " 5   total eve calls         3333 non-null   int64  \n",
      " 6   total eve charge        3333 non-null   float64\n",
      " 7   total night calls       3333 non-null   int64  \n",
      " 8   total night charge      3333 non-null   float64\n",
      " 9   total intl calls        3333 non-null   int64  \n",
      " 10  total intl charge       3333 non-null   float64\n",
      " 11  customer service calls  3333 non-null   int64  \n",
      " 12  churn                   3333 non-null   int64  \n",
      " 13  state_AL                3333 non-null   uint8  \n",
      " 14  state_AR                3333 non-null   uint8  \n",
      " 15  state_AZ                3333 non-null   uint8  \n",
      " 16  state_CA                3333 non-null   uint8  \n",
      " 17  state_CO                3333 non-null   uint8  \n",
      " 18  state_CT                3333 non-null   uint8  \n",
      " 19  state_DC                3333 non-null   uint8  \n",
      " 20  state_DE                3333 non-null   uint8  \n",
      " 21  state_FL                3333 non-null   uint8  \n",
      " 22  state_GA                3333 non-null   uint8  \n",
      " 23  state_HI                3333 non-null   uint8  \n",
      " 24  state_IA                3333 non-null   uint8  \n",
      " 25  state_ID                3333 non-null   uint8  \n",
      " 26  state_IL                3333 non-null   uint8  \n",
      " 27  state_IN                3333 non-null   uint8  \n",
      " 28  state_KS                3333 non-null   uint8  \n",
      " 29  state_KY                3333 non-null   uint8  \n",
      " 30  state_LA                3333 non-null   uint8  \n",
      " 31  state_MA                3333 non-null   uint8  \n",
      " 32  state_MD                3333 non-null   uint8  \n",
      " 33  state_ME                3333 non-null   uint8  \n",
      " 34  state_MI                3333 non-null   uint8  \n",
      " 35  state_MN                3333 non-null   uint8  \n",
      " 36  state_MO                3333 non-null   uint8  \n",
      " 37  state_MS                3333 non-null   uint8  \n",
      " 38  state_MT                3333 non-null   uint8  \n",
      " 39  state_NC                3333 non-null   uint8  \n",
      " 40  state_ND                3333 non-null   uint8  \n",
      " 41  state_NE                3333 non-null   uint8  \n",
      " 42  state_NH                3333 non-null   uint8  \n",
      " 43  state_NJ                3333 non-null   uint8  \n",
      " 44  state_NM                3333 non-null   uint8  \n",
      " 45  state_NV                3333 non-null   uint8  \n",
      " 46  state_NY                3333 non-null   uint8  \n",
      " 47  state_OH                3333 non-null   uint8  \n",
      " 48  state_OK                3333 non-null   uint8  \n",
      " 49  state_OR                3333 non-null   uint8  \n",
      " 50  state_PA                3333 non-null   uint8  \n",
      " 51  state_RI                3333 non-null   uint8  \n",
      " 52  state_SC                3333 non-null   uint8  \n",
      " 53  state_SD                3333 non-null   uint8  \n",
      " 54  state_TN                3333 non-null   uint8  \n",
      " 55  state_TX                3333 non-null   uint8  \n",
      " 56  state_UT                3333 non-null   uint8  \n",
      " 57  state_VA                3333 non-null   uint8  \n",
      " 58  state_VT                3333 non-null   uint8  \n",
      " 59  state_WA                3333 non-null   uint8  \n",
      " 60  state_WI                3333 non-null   uint8  \n",
      " 61  state_WV                3333 non-null   uint8  \n",
      " 62  state_WY                3333 non-null   uint8  \n",
      " 63  international plan_yes  3333 non-null   uint8  \n",
      " 64  voice mail plan_yes     3333 non-null   uint8  \n",
      "dtypes: float64(4), int64(9), uint8(52)\n",
      "memory usage: 507.9 KB\n"
     ]
    }
   ],
   "source": [
    "# Print the updated DataFrame\n",
    "df2.info()"
   ]
  },
  {
   "cell_type": "markdown",
   "metadata": {},
   "source": [
    "## BASELINE MODEL- LOGISTIC REGRESSION MODEL\n",
    "\n",
    "Logistic regression is a regression analysis technique that is specifically designed for situations where the dependent variable is categorical and can only take discrete values. It is used to estimate the probability of a particular event occurring. In this type of regression, we first identify our target variable (Y) and the predictor variables (X) that we want to analyze and understand their relationship with the target variable."
   ]
  },
  {
   "cell_type": "code",
   "execution_count": 19,
   "metadata": {},
   "outputs": [],
   "source": [
    "#identify Y (Target) Variables and Response Variables (X)\n",
    "y = df2['churn']\n",
    "X = df2.drop('churn', axis = 1)"
   ]
  },
  {
   "cell_type": "code",
   "execution_count": 20,
   "metadata": {},
   "outputs": [
    {
     "data": {
      "text/html": [
       "<div>\n",
       "<style scoped>\n",
       "    .dataframe tbody tr th:only-of-type {\n",
       "        vertical-align: middle;\n",
       "    }\n",
       "\n",
       "    .dataframe tbody tr th {\n",
       "        vertical-align: top;\n",
       "    }\n",
       "\n",
       "    .dataframe thead th {\n",
       "        text-align: right;\n",
       "    }\n",
       "</style>\n",
       "<table border=\"1\" class=\"dataframe\">\n",
       "  <thead>\n",
       "    <tr style=\"text-align: right;\">\n",
       "      <th></th>\n",
       "      <th>0</th>\n",
       "      <th>1</th>\n",
       "      <th>2</th>\n",
       "      <th>3</th>\n",
       "      <th>4</th>\n",
       "      <th>5</th>\n",
       "      <th>6</th>\n",
       "      <th>7</th>\n",
       "      <th>8</th>\n",
       "      <th>9</th>\n",
       "      <th>...</th>\n",
       "      <th>54</th>\n",
       "      <th>55</th>\n",
       "      <th>56</th>\n",
       "      <th>57</th>\n",
       "      <th>58</th>\n",
       "      <th>59</th>\n",
       "      <th>60</th>\n",
       "      <th>61</th>\n",
       "      <th>62</th>\n",
       "      <th>63</th>\n",
       "    </tr>\n",
       "  </thead>\n",
       "  <tbody>\n",
       "    <tr>\n",
       "      <th>0</th>\n",
       "      <td>0.524793</td>\n",
       "      <td>0.068627</td>\n",
       "      <td>0.490196</td>\n",
       "      <td>0.666667</td>\n",
       "      <td>0.755701</td>\n",
       "      <td>0.582353</td>\n",
       "      <td>0.542866</td>\n",
       "      <td>0.408451</td>\n",
       "      <td>0.595935</td>\n",
       "      <td>0.15</td>\n",
       "      <td>...</td>\n",
       "      <td>0.0</td>\n",
       "      <td>0.0</td>\n",
       "      <td>0.0</td>\n",
       "      <td>0.0</td>\n",
       "      <td>0.0</td>\n",
       "      <td>0.0</td>\n",
       "      <td>0.0</td>\n",
       "      <td>0.0</td>\n",
       "      <td>0.0</td>\n",
       "      <td>1.0</td>\n",
       "    </tr>\n",
       "    <tr>\n",
       "      <th>1</th>\n",
       "      <td>0.438017</td>\n",
       "      <td>0.068627</td>\n",
       "      <td>0.509804</td>\n",
       "      <td>0.745455</td>\n",
       "      <td>0.460597</td>\n",
       "      <td>0.605882</td>\n",
       "      <td>0.537690</td>\n",
       "      <td>0.492958</td>\n",
       "      <td>0.622236</td>\n",
       "      <td>0.15</td>\n",
       "      <td>...</td>\n",
       "      <td>0.0</td>\n",
       "      <td>0.0</td>\n",
       "      <td>0.0</td>\n",
       "      <td>0.0</td>\n",
       "      <td>0.0</td>\n",
       "      <td>0.0</td>\n",
       "      <td>0.0</td>\n",
       "      <td>0.0</td>\n",
       "      <td>0.0</td>\n",
       "      <td>1.0</td>\n",
       "    </tr>\n",
       "    <tr>\n",
       "      <th>2</th>\n",
       "      <td>0.561983</td>\n",
       "      <td>0.068627</td>\n",
       "      <td>0.000000</td>\n",
       "      <td>0.690909</td>\n",
       "      <td>0.693830</td>\n",
       "      <td>0.647059</td>\n",
       "      <td>0.333225</td>\n",
       "      <td>0.500000</td>\n",
       "      <td>0.375374</td>\n",
       "      <td>0.25</td>\n",
       "      <td>...</td>\n",
       "      <td>0.0</td>\n",
       "      <td>0.0</td>\n",
       "      <td>0.0</td>\n",
       "      <td>0.0</td>\n",
       "      <td>0.0</td>\n",
       "      <td>0.0</td>\n",
       "      <td>0.0</td>\n",
       "      <td>0.0</td>\n",
       "      <td>0.0</td>\n",
       "      <td>0.0</td>\n",
       "    </tr>\n",
       "    <tr>\n",
       "      <th>3</th>\n",
       "      <td>0.342975</td>\n",
       "      <td>0.000000</td>\n",
       "      <td>0.000000</td>\n",
       "      <td>0.430303</td>\n",
       "      <td>0.853454</td>\n",
       "      <td>0.517647</td>\n",
       "      <td>0.170171</td>\n",
       "      <td>0.394366</td>\n",
       "      <td>0.467424</td>\n",
       "      <td>0.35</td>\n",
       "      <td>...</td>\n",
       "      <td>0.0</td>\n",
       "      <td>0.0</td>\n",
       "      <td>0.0</td>\n",
       "      <td>0.0</td>\n",
       "      <td>0.0</td>\n",
       "      <td>0.0</td>\n",
       "      <td>0.0</td>\n",
       "      <td>0.0</td>\n",
       "      <td>1.0</td>\n",
       "      <td>0.0</td>\n",
       "    </tr>\n",
       "    <tr>\n",
       "      <th>4</th>\n",
       "      <td>0.305785</td>\n",
       "      <td>0.068627</td>\n",
       "      <td>0.000000</td>\n",
       "      <td>0.684848</td>\n",
       "      <td>0.475184</td>\n",
       "      <td>0.717647</td>\n",
       "      <td>0.407959</td>\n",
       "      <td>0.619718</td>\n",
       "      <td>0.440526</td>\n",
       "      <td>0.15</td>\n",
       "      <td>...</td>\n",
       "      <td>0.0</td>\n",
       "      <td>0.0</td>\n",
       "      <td>0.0</td>\n",
       "      <td>0.0</td>\n",
       "      <td>0.0</td>\n",
       "      <td>0.0</td>\n",
       "      <td>0.0</td>\n",
       "      <td>0.0</td>\n",
       "      <td>1.0</td>\n",
       "      <td>0.0</td>\n",
       "    </tr>\n",
       "  </tbody>\n",
       "</table>\n",
       "<p>5 rows × 64 columns</p>\n",
       "</div>"
      ],
      "text/plain": [
       "         0         1         2         3         4         5         6   \\\n",
       "0  0.524793  0.068627  0.490196  0.666667  0.755701  0.582353  0.542866   \n",
       "1  0.438017  0.068627  0.509804  0.745455  0.460597  0.605882  0.537690   \n",
       "2  0.561983  0.068627  0.000000  0.690909  0.693830  0.647059  0.333225   \n",
       "3  0.342975  0.000000  0.000000  0.430303  0.853454  0.517647  0.170171   \n",
       "4  0.305785  0.068627  0.000000  0.684848  0.475184  0.717647  0.407959   \n",
       "\n",
       "         7         8     9   ...   54   55   56   57   58   59   60   61   62  \\\n",
       "0  0.408451  0.595935  0.15  ...  0.0  0.0  0.0  0.0  0.0  0.0  0.0  0.0  0.0   \n",
       "1  0.492958  0.622236  0.15  ...  0.0  0.0  0.0  0.0  0.0  0.0  0.0  0.0  0.0   \n",
       "2  0.500000  0.375374  0.25  ...  0.0  0.0  0.0  0.0  0.0  0.0  0.0  0.0  0.0   \n",
       "3  0.394366  0.467424  0.35  ...  0.0  0.0  0.0  0.0  0.0  0.0  0.0  0.0  1.0   \n",
       "4  0.619718  0.440526  0.15  ...  0.0  0.0  0.0  0.0  0.0  0.0  0.0  0.0  1.0   \n",
       "\n",
       "    63  \n",
       "0  1.0  \n",
       "1  1.0  \n",
       "2  0.0  \n",
       "3  0.0  \n",
       "4  0.0  \n",
       "\n",
       "[5 rows x 64 columns]"
      ]
     },
     "execution_count": 20,
     "metadata": {},
     "output_type": "execute_result"
    }
   ],
   "source": [
    "# Create Scaller Object\n",
    "\n",
    "scaler = MinMaxScaler()\n",
    "\n",
    "# fit the scaler to the data and transform the data\n",
    "X_scaled = pd.DataFrame(scaler.fit_transform(X))\n",
    "\n",
    "X_scaled.head()"
   ]
  },
  {
   "cell_type": "code",
   "execution_count": 21,
   "metadata": {},
   "outputs": [
    {
     "data": {
      "text/plain": [
       "LogisticRegression(C=1000000000000.0, fit_intercept=False, solver='liblinear')"
      ]
     },
     "execution_count": 21,
     "metadata": {},
     "output_type": "execute_result"
    }
   ],
   "source": [
    "#perform train test split\n",
    "X_train, X_test, y_train, y_test = train_test_split(X, y, test_size=0.20, random_state=42)\n",
    "\n",
    "# Create a logistic regression model using scikit learn\n",
    "logreg = LogisticRegression(fit_intercept=False, C=1e12, solver='liblinear')\n",
    "\n",
    "# fit the model on the training data\n",
    "logreg.fit(X_train, y_train)"
   ]
  },
  {
   "cell_type": "code",
   "execution_count": 22,
   "metadata": {},
   "outputs": [],
   "source": [
    "# Generate predictions\n",
    "y_hat_train = logreg.predict(X_train)\n",
    "y_hat_test = logreg.predict(X_test)"
   ]
  },
  {
   "cell_type": "code",
   "execution_count": 23,
   "metadata": {},
   "outputs": [],
   "source": [
    "def evaluate_logistic_regression(X, y, test_size=0.2, random_state=42):\n",
    "    # Split the data into training and testing sets\n",
    "    X_train, X_test, y_train, y_test = train_test_split(\n",
    "        X, y, test_size=0.20, random_state=random_state)\n",
    "\n",
    "    # Create a logistic regression model\n",
    "    logreg = LogisticRegression(fit_intercept=False, C=1e12, solver='liblinear')\n",
    "\n",
    "    # Train the model on the training data\n",
    "    logreg.fit(X_train, y_train)\n",
    "\n",
    "    # Predict the target variable on the test data\n",
    "    y_hat_test = logreg.predict(X_test)\n",
    "\n",
    "    # Calculate accuracy\n",
    "    accuracy = accuracy_score(y_test, y_hat_test)\n",
    "\n",
    "    # Calculate precision\n",
    "    precision = precision_score(y_test, y_hat_test)\n",
    "\n",
    "    # Calculate recall\n",
    "    recall = recall_score(y_test, y_hat_test)\n",
    "\n",
    "    # Calculate F1 score\n",
    "    f1 = f1_score(y_test, y_hat_test)\n",
    "\n",
    "    # Create a confusion matrix\n",
    "    cm = confusion_matrix(y_test, y_hat_test)\n",
    "       # Calculate the ROC curve\n",
    "    y_hat_prob = logreg.predict_proba(X_test)[:, 1]\n",
    "    fpr, tpr, thresholds = roc_curve(y_test, y_hat_prob)\n",
    "\n",
    "    # Calculate the area under the ROC curve\n",
    "    auc = roc_auc_score(y_test, y_hat_prob)\n",
    "\n",
    "    # Plot the ROC curve\n",
    "    plt.figure(figsize=(25,8))\n",
    "    plt.subplot(1,2,1)\n",
    "    plt.plot(fpr, tpr)\n",
    "    plt.xlabel(\"False Positive Rate\")\n",
    "    plt.ylabel(\"True Positive Rate\")\n",
    "    plt.title(\"ROC Curve\")\n",
    "\n",
    "    # Create a heatmap of the confusion matrix\n",
    "    plt.subplot(1,2,2)\n",
    "    cm = confusion_matrix(y_test, y_hat_test)\n",
    "    sns.heatmap(cm, annot=True, cmap='Blues', fmt='d')\n",
    "\n",
    "    # Add labels and title to the plot\n",
    "    plt.xlabel('Predicted')\n",
    "    plt.ylabel('Actual')\n",
    "    plt.title('Confusion Matrix')\n",
    "\n",
    "    # Display the plot\n",
    "    plt.show()\n",
    "     # Assuming the evaluation dictionary contains the evaluation metrics\n",
    "    evaluation = {\n",
    "    \"Accuracy\": accuracy,\n",
    "    \"Precision\": precision,\n",
    "    \"Recall\": recall,\n",
    "    \"F1 Score\": f1,\n",
    "    \"Confusion Matrix\": cm,\n",
    "    \"AUC Score\": auc\n",
    "    }\n",
    "\n",
    "    # Create a DataFrame from the evaluation dictionary\n",
    "    evaluation_df = pd.DataFrame.from_dict(evaluation, orient='index', columns=['Metrics'])\n",
    "\n",
    "    # Display the DataFrame\n",
    "    print(evaluation_df)\n",
    "\n",
    "    "
   ]
  },
  {
   "cell_type": "code",
   "execution_count": 24,
   "metadata": {},
   "outputs": [
    {
     "data": {
      "image/png": "[encoded data removed]",
      "text/plain": [
       "<Figure size 1800x576 with 3 Axes>"
      ]
     },
     "metadata": {
      "needs_background": "light"
     },
     "output_type": "display_data"
    },
    {
     "name": "stdout",
     "output_type": "stream",
     "text": [
      "                                Metrics\n",
      "Accuracy                       0.850075\n",
      "Precision                      0.515152\n",
      "Recall                         0.168317\n",
      "F1 Score                       0.253731\n",
      "Confusion Matrix  [[550, 16], [84, 17]]\n",
      "AUC Score                      0.798936\n"
     ]
    }
   ],
   "source": [
    "# Assuming you have X and y defined\n",
    "evaluation = evaluate_logistic_regression(X, y)\n",
    "evaluation"
   ]
  },
  {
   "cell_type": "markdown",
   "metadata": {},
   "source": [
    "## Observations\n",
    "1. Accuracy: The model's accuracy is 85%, indicating the percentage of correctly predicted instances. However, it should be considered alongside other metrics for a complete evaluation.\n",
    "\n",
    "2. Precision: The precision is 51.5%, implying that only half of the predicted positive instances are actually true positives.\n",
    "\n",
    "3. Recall: The recall is 16.83%, indicating the model's ability to correctly identify positive cases among all actual positive cases.\n",
    "\n",
    "4. F1 Score: The F1 score, at 0.253731, represents a moderate balance between precision and recall.\n",
    "\n",
    "5. Confusion Matrix [[550, 16], [84, 17]]: The confusion matrix provides a detailed breakdown of the model's predictions, including the number of true negatives, false positives, false negatives, and true positives.\n",
    "\n",
    "6. AUC Score: The AUC score of 0.799181 suggests reasonable discrimination ability in distinguishing between positive and negative instances.\n",
    "\n",
    "Overall, the observations reveal limitations in correctly identifying positive instances (low recall) and achieving a balanced precision and recall (low F1 score). Further analysis and model refinement may be necessary to enhance performance."
   ]
  },
  {
   "cell_type": "markdown",
   "metadata": {},
   "source": [
    "The confusion matrix provides information on the model's performance in classifying instances. In this case, the confusion matrix reveals the following:\n",
    "\n",
    "- True Negatives (TN): The model correctly predicted \"not churn\" (0) for 550 instances where the actual value is also \"not churn\" (0).\n",
    "- False Positives (FP): The model incorrectly predicted \"churn\" (1) for 16 instances where the actual value is \"not churn\" (0).\n",
    "- False Negatives (FN): The model incorrectly predicted \"not churn\" (0) for 84 instances where the actual value is \"churn\" (1).\n",
    "- True Positives (TP): The model correctly predicted \"churn\" (1) for 17 instances where the actual value is also \"churn\" (1).\n",
    "\n",
    "Based on the confusion matrix, it is evident that the model struggles with correctly identifying instances that are actually churned, as indicated by the relatively high number of false negatives (84). This observation aligns with the low recall score (16.83%) obtained in the evaluation results."
   ]
  },
  {
   "cell_type": "markdown",
   "metadata": {},
   "source": [
    "### Dealing with class imbalance: SMOTE\n",
    "\n"
   ]
  },
  {
   "cell_type": "code",
   "execution_count": 25,
   "metadata": {},
   "outputs": [],
   "source": [
    "# # Previous original class distribution\n",
    "# print(y_train.value_counts()) \n",
    "\n",
    "# # Fit SMOTE to training data\n",
    "# X_train_resampled, y_train_resampled = SMOTE().fit_resample(X_train, y_train) \n",
    "\n",
    "# # Preview synthetic sample class distribution\n",
    "# print('\\n')\n",
    "# print(pd.Series(y_train_resampled).value_counts())"
   ]
  },
  {
   "cell_type": "code",
   "execution_count": 26,
   "metadata": {},
   "outputs": [],
   "source": [
    "# def evaluate_logistic_regression(X, y, test_size=0.2, random_state=42):\n",
    "#     # Split the data into training and testing sets\n",
    "#     X_train_resampled, X_test, y_train_resampled, y_test = train_test_split(\n",
    "#         X, y, test_size=0.20, random_state=random_state)\n",
    "\n",
    "#     # Create a logistic regression model\n",
    "#     logreg_resampled = LogisticRegression(fit_intercept=False, C=1e12, solver='liblinear')\n",
    "\n",
    "#     # Train the model on the training data\n",
    "#     logreg_resampled.fit(X_train_resampled, y_train_resampled)\n",
    "\n",
    "#     # Predict the target variable on the test data\n",
    "#     y_hat_test2 = logreg_resampled.predict(X_test)\n",
    "\n",
    "#     # Calculate accuracy\n",
    "#     accuracy = accuracy_score(y_test, y_hat_test2)\n",
    "\n",
    "#     # Calculate precision\n",
    "#     precision = precision_score(y_test, y_hat_test2)\n",
    "\n",
    "#     # Calculate recall\n",
    "#     recall = recall_score(y_test, y_hat_test2)\n",
    "\n",
    "#     # Calculate F1 score\n",
    "#     f1 = f1_score(y_test, y_hat_test2)\n",
    "\n",
    "#     # Create a confusion matrix\n",
    "#     cm = confusion_matrix(y_test, y_hat_test2)\n",
    "#        # Calculate the ROC curve\n",
    "#     y_hat_prob2 = logreg_resampled.predict_proba(X_test)[:, 1]\n",
    "#     fpr, tpr, thresholds = roc_curve(y_test, y_hat_prob2)\n",
    "\n",
    "#     # Calculate the area under the ROC curve\n",
    "#     auc = roc_auc_score(y_test, y_hat_prob2)\n",
    "\n",
    "#     # Plot the ROC curve\n",
    "#     plt.figure(figsize=(25,8))\n",
    "#     plt.subplot(1,2,1)\n",
    "#     plt.plot(fpr, tpr)\n",
    "#     plt.xlabel(\"False Positive Rate\")\n",
    "#     plt.ylabel(\"True Positive Rate\")\n",
    "#     plt.title(\"ROC Curve\")\n",
    "\n",
    "#     # Create a heatmap of the confusion matrix\n",
    "#     plt.subplot(1,2,2)\n",
    "#     cm = confusion_matrix(y_test, y_hat_test2)\n",
    "#     sns.heatmap(cm, annot=True, cmap='Blues', fmt='d')\n",
    "\n",
    "#     # Add labels and title to the plot\n",
    "#     plt.xlabel('Predicted')\n",
    "#     plt.ylabel('Actual')\n",
    "#     plt.title('Confusion Matrix')\n",
    "\n",
    "#     # Display the plot\n",
    "#     plt.show()\n",
    "#      # Assuming the evaluation dictionary contains the evaluation metrics\n",
    "#     evaluation = {\n",
    "#     \"Accuracy\": accuracy,\n",
    "#     \"Precision\": precision,\n",
    "#     \"Recall\": recall,\n",
    "#     \"F1 Score\": f1,\n",
    "#     \"Confusion Matrix\": cm,\n",
    "#     \"AUC Score\": auc\n",
    "#     }\n",
    "\n",
    "#     # Create a DataFrame from the evaluation dictionary\n",
    "#     evaluation_df = pd.DataFrame.from_dict(evaluation, orient='index', columns=['Metrics'])\n",
    "\n",
    "#     # Display the DataFrame\n",
    "#     print(evaluation_df)\n",
    "    "
   ]
  },
  {
   "cell_type": "code",
   "execution_count": 27,
   "metadata": {},
   "outputs": [],
   "source": [
    "# evaluation2 = evaluate_logistic_regression(X_train_resampled, y_train_resampled)\n",
    "# evaluation2"
   ]
  },
  {
   "cell_type": "markdown",
   "metadata": {},
   "source": [
    "## MODEL 2: K-NEAREST NEIGHBORS\n",
    "The k-nearest neighbors (KNN) algorithm is a supervised machine learning method employed for classification and regression tasks. It estimates the probability of a data point belonging to a particular group by considering the group memberships of its nearest neighboring data points."
   ]
  },
  {
   "cell_type": "code",
   "execution_count": 28,
   "metadata": {},
   "outputs": [
    {
     "data": {
      "text/plain": [
       "GridSearchCV(cv=3, estimator=KNeighborsClassifier(),\n",
       "             param_grid={'n_neighbors': [1, 2, 3, 4, 5, 6, 7, 8]},\n",
       "             scoring='accuracy')"
      ]
     },
     "execution_count": 28,
     "metadata": {},
     "output_type": "execute_result"
    }
   ],
   "source": [
    "from sklearn.neighbors import KNeighborsClassifier\n",
    "#instantiate the model\n",
    "knn_clf= KNeighborsClassifier()\n",
    "#set the paramerters for grid searchCV\n",
    "knn_grid = {'n_neighbors':[1,2,3,4,5,6,7,8]}\n",
    "#use GridSearchCV technique to search through the best parameter values\n",
    "knn = GridSearchCV(knn_clf, knn_grid, scoring = 'accuracy', cv = 3 )\n",
    "#fit the model\n",
    "knn.fit(X_train, y_train.values.ravel())\n"
   ]
  },
  {
   "cell_type": "code",
   "execution_count": 29,
   "metadata": {},
   "outputs": [
    {
     "data": {
      "text/plain": [
       "{'n_neighbors': 8}"
      ]
     },
     "execution_count": 29,
     "metadata": {},
     "output_type": "execute_result"
    }
   ],
   "source": [
    "#use .best_params_ which tells use the best parameters for our model\n",
    "knn.best_params_"
   ]
  },
  {
   "cell_type": "code",
   "execution_count": 30,
   "metadata": {},
   "outputs": [
    {
     "data": {
      "text/plain": [
       "KNeighborsClassifier(n_neighbors=8)"
      ]
     },
     "execution_count": 30,
     "metadata": {},
     "output_type": "execute_result"
    }
   ],
   "source": [
    "#Updating classifier with best parameters\n",
    "knn = KNeighborsClassifier(n_neighbors = 8)\n",
    "knn.fit(X,y.values.ravel())"
   ]
  },
  {
   "cell_type": "code",
   "execution_count": 31,
   "metadata": {},
   "outputs": [],
   "source": [
    "knn_prediction = knn.predict(X_test)"
   ]
  },
  {
   "cell_type": "code",
   "execution_count": 32,
   "metadata": {},
   "outputs": [
    {
     "name": "stdout",
     "output_type": "stream",
     "text": [
      "[[566   0]\n",
      " [ 97   4]]\n",
      "True Positive(TP)  =  4\n",
      "False Positive(FP) =  0\n",
      "True Negative(TN)  =  566\n",
      "False Negative(FN) =  97\n",
      "Accuracy of the binary classification = 0.855\n"
     ]
    }
   ],
   "source": [
    "# Evaluating KNN Algorithm\n",
    "print(confusion_matrix(y_test,knn_prediction))\n",
    "\n",
    "\n",
    "TN, FP, FN, TP = confusion_matrix(y_test, knn_prediction).ravel()\n",
    "\n",
    "print('True Positive(TP)  = ', TP)\n",
    "print('False Positive(FP) = ', FP)\n",
    "print('True Negative(TN)  = ', TN)\n",
    "print('False Negative(FN) = ', FN)\n",
    "\n",
    "accuracy =  (TP+TN) /(TP+FP+TN+FN)\n",
    "\n",
    "print('Accuracy of the binary classification = {:0.3f}'.format(accuracy))\n"
   ]
  },
  {
   "cell_type": "code",
   "execution_count": 33,
   "metadata": {},
   "outputs": [
    {
     "data": {
      "text/plain": [
       "<AxesSubplot:>"
      ]
     },
     "execution_count": 33,
     "metadata": {},
     "output_type": "execute_result"
    },
    {
     "data": {
      "image/png": "[encoded data removed]",
      "text/plain": [
       "<Figure size 432x288 with 2 Axes>"
      ]
     },
     "metadata": {
      "needs_background": "light"
     },
     "output_type": "display_data"
    }
   ],
   "source": [
    "# Create a heatmap of the confusion matrix\n",
    "plt.subplot(1,2,2)\n",
    "cm = confusion_matrix(y_test,knn_prediction)\n",
    "sns.heatmap(cm, annot=True, cmap='Blues', fmt='d')\n"
   ]
  },
  {
   "cell_type": "markdown",
   "metadata": {},
   "source": [
    "## Observations\n",
    "Here's an explanation of the observations:\n",
    "\n",
    "- True Positives (TP): The model correctly predicted the positive class for 4 instances. These are cases where the actual value is positive, and the model correctly identified them as positive.\n",
    "\n",
    "- False Positives (FP): The model incorrectly predicted the positive class for 0 instances. These are cases where the actual value is negative, but the model mistakenly identified them as positive. In this case, there are no false positives.\n",
    "\n",
    "- True Negatives (TN): The model correctly predicted the negative class for 566 instances. These are cases where the actual value is negative, and the model correctly identified them as negative.\n",
    "\n",
    "- False Negatives (FN): The model incorrectly predicted the negative class for 97 instances. These are cases where the actual value is positive, but the model mistakenly identified them as negative.\n",
    "\n",
    "The accuracy of the binary classification is calculated as the ratio of correct predictions (TP + TN) to the total number of instances. In this case, the accuracy is 0.855, which means that approximately 85.5% of instances were correctly classified by the model."
   ]
  },
  {
   "cell_type": "code",
   "execution_count": 34,
   "metadata": {},
   "outputs": [
    {
     "name": "stdout",
     "output_type": "stream",
     "text": [
      "KNN:\n",
      "Accuracy: 0.855\n",
      "F1 Score: 0.076\n",
      "Precision: 1.000\n",
      "Recall: 0.040\n",
      "ROC AUC Score: 0.520\n"
     ]
    }
   ],
   "source": [
    "#model evaluation\n",
    "knn_acc = accuracy_score(y_test, knn_prediction)\n",
    "knn_f1 = f1_score(y_test, knn_prediction)\n",
    "knn_prec = precision_score(y_test, knn_prediction)\n",
    "knn_rec = recall_score(y_test, knn_prediction)\n",
    "knn_auc = roc_auc_score(y_test, knn_prediction)\n",
    "\n",
    "print('KNN:')\n",
    "print(f'Accuracy: {knn_acc:.3f}')\n",
    "print(f'F1 Score: {knn_f1:.3f}')\n",
    "print(f'Precision: {knn_prec:.3f}')\n",
    "print(f'Recall: {knn_rec:.3f}')\n",
    "print(f'ROC AUC Score: {knn_auc:.3f}')"
   ]
  },
  {
   "cell_type": "markdown",
   "metadata": {},
   "source": [
    "## Observations\n",
    "Based on the provided observations of a K-Nearest Neighbors (KNN) model, here's an interpretation of the results:\n",
    "\n",
    "1. Accuracy: The accuracy of 0.855 indicates that approximately 85.5% of the instances in the evaluation dataset were correctly classified by the KNN model. This metric alone, however, may not provide a comprehensive assessment of the model's performance.\n",
    "\n",
    "2. F1 Score: The F1 score of 0.076 is a measure that balances both precision and recall. It indicates the harmonic mean of these two metrics. A low F1 score suggests poor performance in terms of correctly identifying positive instances and minimizing false positives.\n",
    "\n",
    "3. Precision: The precision of 1.000 suggests that all instances predicted as positive by the KNN model were true positives. However, it is crucial to examine other metrics to assess the overall performance of the model.\n",
    "\n",
    "4. Recall: The recall of 0.040 indicates that only a small proportion (approximately 4%) of actual positive instances were correctly identified by the KNN model. This implies that the model has a relatively high number of false negatives.\n",
    "\n",
    "5. ROC AUC Score: The ROC AUC score of 0.520 represents the Area Under the Receiver Operating Characteristic Curve (ROC AUC). This metric assesses the model's ability to distinguish between positive and negative instances. An AUC score of 0.520 suggests that the model's discrimination capability is close to random guessing.\n",
    "\n",
    "Overall, the observations indicate that the KNN model may have limitations in correctly identifying positive instances (low recall), and its overall performance in terms of precision, recall, and discrimination ability is relatively poor. Further analysis and model refinement may be necessary to improve its performance."
   ]
  },
  {
   "cell_type": "markdown",
   "metadata": {},
   "source": [
    "## MODEL 3: DECISION TREES\n",
    "Decision Trees (DTs) are a type of supervised learning technique used for classification and regression tasks. The objective is to build a model that can predict the value of a target variable based on simple decision rules learned from the features present in the data.\n",
    "\n",
    "The term \"non-parametric\" indicates that decision trees do not rely on assumptions about the data's underlying distribution or specific parameter values. Instead, they focus on inferring straightforward decision rules directly from the data without imposing predefined assumptions about its characteristics or whether the data is quantitative or qualitative."
   ]
  },
  {
   "cell_type": "code",
   "execution_count": 35,
   "metadata": {},
   "outputs": [
    {
     "name": "stdout",
     "output_type": "stream",
     "text": [
      "Decision Treee:\n",
      "Accuracy: 0.930\n",
      "F1 Score: 0.761\n",
      "Precision: 0.781\n",
      "Recall: 0.743\n",
      "ROC AUC Score: 0.853\n"
     ]
    }
   ],
   "source": [
    "from sklearn.tree import DecisionTreeClassifier\n",
    "#instantiate the model\n",
    "tree = DecisionTreeClassifier(criterion=\"entropy\", random_state=0)\n",
    "#fit the data\n",
    "tree.fit(X_train, y_train)\n",
    "#predict\n",
    "tree_y_hat = tree.predict(X_test)\n",
    "#model evaluation using evalution metrics\n",
    "tree_acc = accuracy_score(y_test, tree_y_hat)\n",
    "tree_f1 = f1_score(y_test, tree_y_hat)\n",
    "tree_prec = precision_score(y_test, tree_y_hat)\n",
    "tree_rec = recall_score(y_test, tree_y_hat)\n",
    "tree_auc = roc_auc_score(y_test, tree_y_hat)\n",
    "print('Decision Treee:')\n",
    "print(f'Accuracy: {tree_acc:.3f}')\n",
    "print(f'F1 Score: {tree_f1:.3f}')\n",
    "print(f'Precision: {tree_prec:.3f}')\n",
    "print(f'Recall: {tree_rec:.3f}')\n",
    "print(f'ROC AUC Score: {tree_auc:.3f}')"
   ]
  },
  {
   "cell_type": "code",
   "execution_count": 36,
   "metadata": {},
   "outputs": [
    {
     "data": {
      "text/plain": [
       "<AxesSubplot:>"
      ]
     },
     "execution_count": 36,
     "metadata": {},
     "output_type": "execute_result"
    },
    {
     "data": {
      "image/png": "[encoded data removed]",
      "text/plain": [
       "<Figure size 432x288 with 2 Axes>"
      ]
     },
     "metadata": {
      "needs_background": "light"
     },
     "output_type": "display_data"
    }
   ],
   "source": [
    "# Create a heatmap of the confusion matrix\n",
    "plt.subplot(1,2,2)\n",
    "cm = confusion_matrix(y_test,tree_y_hat)\n",
    "sns.heatmap(cm, annot=True, cmap='Blues', fmt='d')"
   ]
  },
  {
   "cell_type": "markdown",
   "metadata": {},
   "source": [
    "## Observations\n",
    "Based on the provided observations for a decision tree model, here's an interpretation of the results:\n",
    "\n",
    "1. Accuracy: The accuracy of 0.93 indicates that approximately 93% of the instances in the evaluation dataset were correctly classified by the decision tree model. This is a relatively high accuracy, suggesting that the model performs well in terms of overall correct predictions.\n",
    "\n",
    "2. F1 Score: The F1 score of 0.761 is a measure that balances both precision and recall. It represents the harmonic mean of these two metrics. A higher F1 score indicates a better balance between precision and recall. In this case, the F1 score suggests a moderate performance in correctly identifying positive instances and minimizing false positives.\n",
    "\n",
    "3. Precision: The precision of 0.781 suggests that around 78.1% of the instances predicted as positive by the decision tree model are actually true positives. This metric measures the accuracy of positive predictions.\n",
    "\n",
    "4. Recall: The recall of 0.743 indicates that approximately 74.3% of the actual positive instances were correctly identified by the decision tree model. This metric evaluates the model's ability to find all positive instances.\n",
    "\n",
    "5. ROC AUC Score: The ROC AUC score of 0.853 represents the Area Under the Receiver Operating Characteristic Curve (ROC AUC). This metric assesses the model's ability to distinguish between positive and negative instances. A higher ROC AUC score suggests better discrimination capability. In this case, the score of 0.853 indicates that the model has reasonably good discrimination ability.\n",
    "\n",
    "Based on the provided confusion matrix for a decision tree model, here's an explanation of the observations:\n",
    "\n",
    "- True Positives (TP): The model correctly predicted the positive class for 75 instances. These are cases where the actual value is positive, and the model correctly identified them as positive.\n",
    "\n",
    "- False Positives (FP): The model incorrectly predicted the positive class for 21 instances. These are cases where the actual value is negative, but the model mistakenly identified them as positive.\n",
    "\n",
    "- True Negatives (TN): The model correctly predicted the negative class for 545 instances. These are cases where the actual value is negative, and the model correctly identified them as negative.\n",
    "\n",
    "- False Negatives (FN): The model incorrectly predicted the negative class for 26 instances. These are cases where the actual value is positive, but the model mistakenly identified them as negative.\n",
    "\n",
    "Overall, the observations suggest that the decision tree model performs well in terms of accuracy, precision, recall, F1 score, and discrimination ability. However, further analysis and validation with additional evaluation metrics may be necessary to gain a more comprehensive understanding of the model's performance."
   ]
  },
  {
   "cell_type": "markdown",
   "metadata": {},
   "source": [
    "## MODEL 4: RANDOM FOREST"
   ]
  },
  {
   "cell_type": "code",
   "execution_count": 37,
   "metadata": {},
   "outputs": [
    {
     "name": "stdout",
     "output_type": "stream",
     "text": [
      "Random Forest:\n",
      "Accuracy: 0.919\n",
      "F1 Score: 0.635\n",
      "Precision: 1.000\n",
      "Recall: 0.465\n",
      "ROC AUC Score: 0.733\n"
     ]
    }
   ],
   "source": [
    "from sklearn.ensemble import RandomForestClassifier\n",
    "#instatiate the model\n",
    "forest = RandomForestClassifier(n_estimators=10, criterion=\"entropy\", random_state=0)\n",
    "#fit the data\n",
    "forest.fit(X_train, y_train)\n",
    "#predict\n",
    "forest_y_hat = forest.predict(X_test)\n",
    "#Model evaluation using evaluation metrics\n",
    "forest_acc = accuracy_score(y_test, forest_y_hat)\n",
    "forest_f1 = f1_score(y_test, forest_y_hat)\n",
    "forest_prec = precision_score(y_test, forest_y_hat)\n",
    "forest_rec = recall_score(y_test, forest_y_hat)\n",
    "forest_auc = roc_auc_score(y_test, forest_y_hat)\n",
    "print('Random Forest:')\n",
    "print(f'Accuracy: {forest_acc:.3f}')\n",
    "print(f'F1 Score: {forest_f1:.3f}')\n",
    "print(f'Precision: {forest_prec:.3f}')\n",
    "print(f'Recall: {forest_rec:.3f}')\n",
    "print(f'ROC AUC Score: {forest_auc:.3f}')"
   ]
  },
  {
   "cell_type": "code",
   "execution_count": 38,
   "metadata": {},
   "outputs": [
    {
     "data": {
      "text/plain": [
       "<AxesSubplot:>"
      ]
     },
     "execution_count": 38,
     "metadata": {},
     "output_type": "execute_result"
    },
    {
     "data": {
      "image/png": "[encoded data removed]",
      "text/plain": [
       "<Figure size 432x288 with 2 Axes>"
      ]
     },
     "metadata": {
      "needs_background": "light"
     },
     "output_type": "display_data"
    }
   ],
   "source": [
    "# Create a heatmap of the confusion matrix\n",
    "plt.subplot(1,2,2)\n",
    "cm = confusion_matrix(y_test,forest_y_hat)\n",
    "sns.heatmap(cm, annot=True, cmap='Blues', fmt='d')"
   ]
  },
  {
   "cell_type": "markdown",
   "metadata": {},
   "source": [
    "## Observations\n",
    "Based on the provided observations for a random forest model, here's an interpretation of the results:\n",
    "\n",
    "1. Accuracy: The accuracy of 0.919 indicates that approximately 91.9% of the instances in the evaluation dataset were correctly classified by the random forest model. This is a relatively high accuracy, suggesting that the model performs well in terms of overall correct predictions.\n",
    "\n",
    "2. F1 Score: The F1 score of 0.635 is a measure that balances both precision and recall. It represents the harmonic mean of these two metrics. A higher F1 score indicates a better balance between precision and recall. In this case, the F1 score suggests a moderate performance in correctly identifying positive instances and minimizing false positives.\n",
    "\n",
    "3. Precision: The precision of 1.00.This metric measures the accuracy of positive predictions.\n",
    "\n",
    "4. Recall: The recall of 0.465 indicates that approximately 46.5% of the actual positive instances were correctly identified by the random forest model. This metric evaluates the model's ability to find all positive instances.\n",
    "\n",
    "5. ROC AUC Score: The ROC AUC score of 0.733 represents the Area Under the Receiver Operating Characteristic Curve (ROC AUC). This metric assesses the model's ability to distinguish between positive and negative instances. A higher ROC AUC score suggests better discrimination capability. In this case, the score of 0.733 indicates that the model has some discrimination ability, but there is room for improvement.\n",
    "\n",
    "Based on the provided confusion matrix for a random forest model, here's an explanation of the observations:\n",
    "\n",
    "- True Positives (TP): The model correctly predicted the positive class for 47 instances. These are cases where the actual value is positive, and the model correctly identified them as positive.\n",
    "\n",
    "- False Positives (FP): The model incorrectly predicted the positive class for 0 instances. \n",
    "\n",
    "- True Negatives (TN): The model correctly predicted the negative class for 566 instances. These are cases where the actual value is negative, and the model correctly identified them as negative.\n",
    "\n",
    "- False Negatives (FN): The model incorrectly predicted the negative class for 54 instances. These are cases where the actual value is positive, but the model mistakenly identified them as negative.\n",
    "\n",
    "Overall, the observations suggest that the random forest model performs well in terms of accuracy and precision, indicating good overall predictions and accurate positive classifications. However, the model's performance in terms of recall and F1 score is relatively lower, suggesting room for improvement in correctly identifying positive instances and achieving a better balance between precision and recall."
   ]
  },
  {
   "cell_type": "markdown",
   "metadata": {},
   "source": [
    "## MODEL SELECTION\n"
   ]
  },
  {
   "cell_type": "code",
   "execution_count": 39,
   "metadata": {},
   "outputs": [
    {
     "data": {
      "image/png": "[encoded data removed]",
      "text/plain": [
       "<Figure size 864x432 with 1 Axes>"
      ]
     },
     "metadata": {
      "needs_background": "light"
     },
     "output_type": "display_data"
    }
   ],
   "source": [
    "# Compute the predicted probabilities for each model\n",
    "knn_probability = knn.predict_proba(X_test)[:, 1]\n",
    "log_probability = logreg.predict_proba(X_test)[:, 1]\n",
    "tree_probability = tree.predict_proba(X_test)[:, 1]\n",
    "forest_probability = forest.predict_proba(X_test)[:, 1]\n",
    "\n",
    "# Compute the ROC curve and AUC for each model\n",
    "tree_fpr, tree_tpr, _ = roc_curve(y_test, tree_probability)\n",
    "tree_auc = roc_auc_score(y_test, tree_probability)\n",
    "\n",
    "forest_fpr, forest_tpr, _ = roc_curve(y_test, forest_probability)\n",
    "forest_auc = roc_auc_score(y_test, forest_probability)\n",
    "\n",
    "knn_fpr, knn_tpr, _ = roc_curve(y_test, knn_probability)\n",
    "knn_auc = roc_auc_score(y_test, knn_probability)\n",
    "\n",
    "log_fpr, log_tpr, _ = roc_curve(y_test, log_probability)\n",
    "log_auc = roc_auc_score(y_test, log_probability)\n",
    "\n",
    "\n",
    "# Plot ROC curves\n",
    "plt.figure(figsize=(12,6))\n",
    "plt.plot(tree_fpr, tree_tpr, label='Decision Tree (AUC = {:.3f})'.format(tree_auc))\n",
    "plt.plot(forest_fpr, forest_tpr, label='Random Forest (AUC = {:.3f})'.format(forest_auc))\n",
    "plt.plot(knn_fpr, knn_tpr, label='KNN (AUC = {:.3f})'.format(knn_auc))\n",
    "plt.plot(log_fpr, log_tpr, label='Logistic Regression (AUC = {:.3f})'.format(log_auc))\n",
    "# Plot the random guess line\n",
    "plt.plot([0, 1], [0, 1], linestyle='--', color='gray')\n",
    "\n",
    "# Set plot labels and title\n",
    "plt.xlabel('False Positive Rate')\n",
    "plt.ylabel('True Positive Rate')\n",
    "plt.title('Receiver Operating Characteristic (ROC) Curve')\n",
    "\n",
    "\n",
    "# Set plot legend\n",
    "plt.legend()\n",
    "\n",
    "# Show the plot\n",
    "plt.show()\n"
   ]
  },
  {
   "cell_type": "markdown",
   "metadata": {},
   "source": [
    "## Observations\n",
    "From the above evaluation metrics per model, we can draw the following conclusions:\n",
    "\n",
    "- Accuracy: The Decision Tree and Random Forest models perform similarly well with accuracies of 0.930 and 0.919, respectively. Logistic Regression and KNN have slightly lower accuracies.\n",
    "\n",
    "- Precision: Decision tree achieves the highest precision score of 0.781, indicating a high proportion of correct positive predictions. Logistic Regression has relatively lower precision score, while KNN and Random Forest achieves a perfect precision score of 1.000.\n",
    "\n",
    "- Recall: The Decision Tree model has the highest recall score of 0.743, indicating its ability to identify a higher proportion of positive instances. Logistic Regression and Random Forest have relatively lower recall scores, while KNN performs the poorest in terms of recall.\n",
    "\n",
    "- F1 Score: The Decision Tree model has the highest F1 score of 0.761, which considers both precision and recall. Random Forest follows. Logistic Regression and KNN have lower F1 scores, with KNN having the lowest.\n",
    "\n",
    "- ROC AUC Score: The Decision Tree model achieves the highest ROC AUC score of 0.853, indicating its better ability to distinguish between positive and negative instances. Random Forest and Logistic Regression have relatively lower ROC AUC scores, while KNN has the lowest score.\n",
    "\n",
    "In summary, the Decision Tree and Random Forest models generally perform better across multiple evaluation metrics, including accuracy, precision, recall, F1 score, and ROC AUC score. Logistic Regression performs moderately, while KNN shows relatively lower performance in most of the evaluation metrics.\n"
   ]
  },
  {
   "cell_type": "markdown",
   "metadata": {},
   "source": [
    "##  FEATURE IMPORTANCE\n"
   ]
  },
  {
   "cell_type": "code",
   "execution_count": 40,
   "metadata": {},
   "outputs": [],
   "source": [
    "# Define the list of columns to drop\n",
    "columns_to_drop = ['state_AL', 'state_AR', 'state_AZ', 'state_CA', 'state_CO', 'state_CT', 'state_DC',\n",
    "                   'state_DE', 'state_FL', 'state_GA', 'state_HI', 'state_IA', 'state_ID', 'state_IL',\n",
    "                   'state_IN', 'state_KS', 'state_KY', 'state_LA', 'state_MA', 'state_MD', 'state_ME',\n",
    "                   'state_MI', 'state_MN', 'state_MO', 'state_MS', 'state_MT', 'state_NC', 'state_ND',\n",
    "                   'state_NE', 'state_NH', 'state_NJ', 'state_NM', 'state_NV', 'state_NY', 'state_OH',\n",
    "                   'state_OK', 'state_OR', 'state_PA', 'state_RI', 'state_SC', 'state_SD', 'state_TN',\n",
    "                   'state_TX', 'state_UT', 'state_VA', 'state_VT', 'state_WA', 'state_WI', 'state_WV',\n",
    "                   'state_WY']\n",
    "\n",
    "# Drop the specified columns from the DataFrame\n",
    "df2 = df2.drop(columns=columns_to_drop)\n"
   ]
  },
  {
   "cell_type": "code",
   "execution_count": 41,
   "metadata": {},
   "outputs": [
    {
     "name": "stdout",
     "output_type": "stream",
     "text": [
      "account length: 0.032336253231888726\n",
      "area code: 0.009754261429972448\n",
      "number vmail messages: 0.053743411445847274\n",
      "total day calls: 0.02539117119105514\n",
      "total day charge: 0.2680564695553088\n",
      "total eve calls: 0.03214508953118224\n",
      "total eve charge: 0.1345204388442582\n",
      "total night calls: 0.02183628978440616\n",
      "total night charge: 0.04522977069085174\n",
      "total intl calls: 0.0742635583928812\n",
      "total intl charge: 0.10576200505799145\n",
      "customer service calls: 0.10830400026094011\n",
      "churn: 0.07235405876074377\n",
      "international plan_yes: 0.016303221822672624\n"
     ]
    }
   ],
   "source": [
    "# Split the DataFrame into input features 'X' and target variable 'y'\n",
    "y = df2['churn']\n",
    "X = df2.drop('churn', axis = 1)\n",
    "\n",
    "# Train a decision tree classifier\n",
    "tree = DecisionTreeClassifier()\n",
    "tree.fit(X, y)\n",
    "\n",
    "# Get feature importances\n",
    "importance = tree.feature_importances_\n",
    "\n",
    "# Print feature importances\n",
    "for i, feature in enumerate(df2.columns[:-1]):  # Exclude the target variable column\n",
    "    print(f\"{feature}: {importance[i]}\")\n"
   ]
  },
  {
   "cell_type": "code",
   "execution_count": 42,
   "metadata": {},
   "outputs": [
    {
     "data": {
      "image/png": "[encoded data removed]",
      "text/plain": [
       "<Figure size 720x432 with 1 Axes>"
      ]
     },
     "metadata": {
      "needs_background": "light"
     },
     "output_type": "display_data"
    }
   ],
   "source": [
    "import matplotlib.pyplot as plt\n",
    "import numpy as np\n",
    "\n",
    "# Define the feature names and importances\n",
    "feature_names = ['account length', 'area code', 'number vmail messages', 'total day calls', 'total day charge',\n",
    "                 'total eve calls', 'total eve charge', 'total night calls', 'total night charge',\n",
    "                 'total intl calls', 'total intl charge', 'customer service calls','international plan_yes']\n",
    "importances = [0.034251971990780006, 0.009754261429972448, 0.055155819277019416, 0.020285098250768577,\n",
    "               0.26898307117641845, 0.019562760427114006, 0.13841738365359268, 0.02678195911070097,\n",
    "               0.050274084373609355, 0.06916595606301343, 0.10618930716386868, 0.11373168178358732, 0.015092586538810794]\n",
    "\n",
    "# Sort the features and importances in descending order\n",
    "sorted_indices = np.argsort(importances)[::-1]\n",
    "sorted_feature_names = [feature_names[i] for i in sorted_indices]\n",
    "sorted_importances = np.sort(importances)[::-1]\n",
    "\n",
    "# Plot the feature importances\n",
    "plt.figure(figsize=(10, 6))\n",
    "plt.bar(range(len(sorted_importances)), sorted_importances, align='center')\n",
    "plt.xticks(range(len(sorted_importances)), sorted_feature_names, rotation=45, ha='right')\n",
    "plt.xlabel('Feature')\n",
    "plt.ylabel('Importance')\n",
    "plt.title('Feature Importance')\n",
    "plt.tight_layout()\n",
    "plt.show()\n"
   ]
  },
  {
   "cell_type": "markdown",
   "metadata": {},
   "source": [
    "\n",
    "* The most important feature for predicting churn is **total day charge**, which has a score of 0.268983. This means that the amount of money a customer spends on day calls is a strong predictor of whether they will churn.\n",
    "* The second most important feature is **customer service calls**, which has a score of 0.113732. This means that customers who make more customer service calls are more likely to churn.\n",
    "* Other important features include **total eve charge**, **total intl charge**, and **international plan_yes**. These features all relate to the amount of money a customer spends on their phone service, which is a strong predictor of churn.\n",
    "* The least important features are **account length**, **area code**, and **number vmail messages**. These features do not seem to be very predictive of churn.\n",
    "\n",
    "Overall, the feature importance indicates that the amount of money a customer spends on their phone service is a strong predictor of whether they will churn. Other important factors include the number of customer service calls a customer makes and whether they have an international plan.\n"
   ]
  },
  {
   "cell_type": "markdown",
   "metadata": {},
   "source": [
    "## CONCLUSION\n",
    "\n",
    "Decision Tree model appears to be the best performer among the four models. This would be the best Model for the Syria Tel Telecommunication Company to use to predict which customer will unsubscribe from their services and take precautionary steps to reduce the churn rate.\n",
    "\n",
    "The Most important features for predicting churn are:\n",
    "- Total day charge\n",
    "- Customer Service call\n",
    "- Total eve charge\n",
    "- Total intl charge\n",
    "\n",
    "## RECOMMENDATIONS\n",
    "\n",
    "\n",
    "* **Focus on reducing the amount of money customers spend on day calls.** This is the most important factor in predicting churn, so it is the most important area to focus on. This could be done by offering discounts on day calls, or by providing customers with more affordable alternatives to day calls.\n",
    "* **Reduce the number of customer service calls.** Customers who make more customer service calls are more likely to churn. This could be done by improving the customer service experience, or by making it easier for customers to resolve their issues without having to call customer service.\n",
    "* **Consider offering international plans.** Customers who have international plans are less likely to churn. This could be done by offering more affordable international plans, or by making it easier for customers to sign up for international plans.\n",
    "* **Ignore account length, area code, and number vmail messages.** These features are not very predictive of churn, so there is no need to focus on them.\n",
    "\n",
    "\n",
    "\n"
   ]
  }
 ],
 "metadata": {
  "kernelspec": {
   "display_name": "Python (learn-env)",
   "language": "python",
   "name": "learn-env"
  },
  "language_info": {
   "codemirror_mode": {
    "name": "ipython",
    "version": 3
   },
   "file_extension": ".py",
   "mimetype": "text/x-python",
   "name": "python",
   "nbconvert_exporter": "python",
   "pygments_lexer": "ipython3",
   "version": "3.8.5"
  }
 },
 "nbformat": 4,
 "nbformat_minor": 4
}
